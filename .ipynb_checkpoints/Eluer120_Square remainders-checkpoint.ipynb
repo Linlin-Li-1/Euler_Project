{
 "cells": [
  {
   "cell_type": "markdown",
   "metadata": {},
   "source": [
    "# Square remainders\n",
    "## Problem 120\n",
    "\n",
    "Let $r$ be the remainder when $(a−1)^n + (a+1)^n$ is divided by $a^2$.\n",
    "\n",
    "For example, if $a = 7$ and $n = 3$, then $r = 42: 6^3 + 8^3 = 728 ≡ 42$ mod $49$. And as $n$ varies, so too will $r$, but for $a = 7$ it turns out that $r_\\mathrm{max} = 42$.\n",
    "\n",
    "For $3 \\leq a \\leq 1000$, find $\\sum r_\\mathrm{max}$."
   ]
  },
  {
   "cell_type": "markdown",
   "metadata": {},
   "source": [
    "### Solution:\n",
    "#### 1. Calculate the remainder\n",
    "\n",
    "I first expand the polynomial $(n\\in \\mathbb{N^+})$\n",
    "$$\n",
    "\\begin{aligned}\n",
    "(a+1)^n &= \\sum_{i=0}^n C^i_n a^{i}, \\\\\n",
    "(a-1)^n &= \\sum_{i=0}^n (-1)^{n-i}C^i_n a^{i}, \\\\\n",
    "\\text{so } (a+1)^n+(a-1)^n &= \\sum_{i=0}^n C^i_n a^{i}\\left\\{1+(-1)^{n-i}\\right\\}.\n",
    "\\end{aligned}\n",
    "$$\n",
    "\n",
    "Then,\n",
    "- For all odd values of $n-i$, $1+(-1)^{n-i}=0$,\n",
    "- For all even values of $n-i$, $1+(-1)^{n-i}=2$. \n",
    "\n",
    "Therefore,\n",
    "- For all odd $n$, only those terms with odd $i$ will remain\n",
    "\n",
    "$$(a+1)^n+(a-1)^n = \\sum_{i=0}^n C^i_n a^{i}\\left\\{1+(-1)^{n-i}\\right\\} = 2 \\sum_{i=0}^n C^i_n a^{i} \\mathbb{1}_{(i\\%2=1)} = 2 \\sum_{k=0}^{(n-1)/2} C^{2k+1}_n a^{2k+1}.$$\n",
    "\n",
    "From this equation, we can see that except for the last term, every term is a multiple of $a^2$. We will then only focus on the last term, $2 n a$, because only this term is related to the remainder.\n",
    "\n",
    "- For all even $n$, only those terms with even $i$ will remain\n",
    "\n",
    "$$(a+1)^n+(a-1)^n = \\sum_{i=0}^n C^i_n a^{i}\\left\\{1+(-1)^{n-i}\\right\\} = 2 \\sum_{i=0}^n C^i_n a^{i} \\mathbb{1}_{(i\\%2=0)} = 2 \\sum_{k=0}^{n/2} C^{2k}_n a^{2k}.$$\n",
    "\n",
    "From this equation, we can see that except for the last term, every term is a multiple of $a^2$. We will then only focus on the last term, $2$.\n",
    "\n",
    "\n",
    "Since $3 \\leq a \\leq 1000$, $$2 n a \\geq 2,$$\n",
    "so we will focus on only the odd $n$. "
   ]
  },
  {
   "cell_type": "markdown",
   "metadata": {},
   "source": [
    "#### 2. Maximize the remainder\n",
    "For fixed $a$ (and odd $n$), we try to maximize $2 n a$ to obtain $r_\\mathrm{max}$. To do this, we can maximize $n$ by setting $n$ to be as large as possible to $a/2$, but will still maintain $2 n < a$ to keep $2 n a$ as the remainder of $a^2$.\n",
    "\n",
    "\\begin{equation}\n",
    "\\begin{aligned}\n",
    "\\max_{n} \\quad & 2na\\\\\n",
    "\\textrm{s.t.} \\quad & 2n < a    \\\\\n",
    "  & a, n \\in \\mathbb{N^+} \\\\\n",
    "  & n\\%2 =1\n",
    "\\end{aligned}\n",
    "\\end{equation}\n",
    "\n",
    "- For all odd $a$, the max remainder $2 n a$ would be $(a-1)a$.\n",
    "- For all even $a$, the max remainder $2 n a$ would be $(a-2)a$.\n",
    "\n",
    "Thus,\n",
    "$$\n",
    "r_\\mathrm{max} = a\\{(a-1)\\mathbb{1}_{(a\\%2=1)} + (a-2)\\mathbb{1}_{(a\\%2=0)}\\}\n",
    "$$\n",
    "and \n",
    "$$\n",
    "\\sum r_\\mathrm{max} = \\sum_{a=3}^{1000} a\\{(a-1)\\mathbb{1}_{(a\\%2=1)} + (a-2)\\mathbb{1}_{(a\\%2=0)}\\} = \\sum_{k=1}^{499} (2k+1) 2k + \\sum_{k=1}^{499} (2k+2)2k ,\n",
    "$$\n",
    "where the first term in the right hand side is the sum of all odd terms and the second term is the sum of all even terms. \n",
    "\n",
    "$$\n",
    "\\sum r_\\mathrm{max} = \\sum_{k=1}^{499} (2k+1) 2k + (2k+2)2k = \\sum_{k=1}^{499} (4k+3) 2k. \n",
    "$$"
   ]
  },
  {
   "cell_type": "markdown",
   "metadata": {},
   "source": [
    "#### 3. Compute the sum"
   ]
  },
  {
   "cell_type": "code",
   "execution_count": 1,
   "metadata": {},
   "outputs": [
    {
     "data": {
      "text/plain": [
       "333082500"
      ]
     },
     "execution_count": 1,
     "metadata": {},
     "output_type": "execute_result"
    }
   ],
   "source": [
    "sum([(4*k+3)*2*k for k in range(1,500)])"
   ]
  },
  {
   "cell_type": "code",
   "execution_count": null,
   "metadata": {},
   "outputs": [],
   "source": []
  }
 ],
 "metadata": {
  "kernelspec": {
   "display_name": "Python 3",
   "language": "python",
   "name": "python3"
  },
  "language_info": {
   "codemirror_mode": {
    "name": "ipython",
    "version": 3
   },
   "file_extension": ".py",
   "mimetype": "text/x-python",
   "name": "python",
   "nbconvert_exporter": "python",
   "pygments_lexer": "ipython3",
   "version": "3.7.6"
  }
 },
 "nbformat": 4,
 "nbformat_minor": 4
}
