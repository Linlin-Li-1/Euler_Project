{
 "cells": [
  {
   "cell_type": "markdown",
   "metadata": {},
   "source": [
    "# Pandigital prime\n",
    "## Problem 41\n",
    "\n",
    "We shall say that an $n$-digit number is pandigital if it makes use of all the digits $1$ to $n$ exactly once. For example, $2143$ is a $4$-digit pandigital and is also prime.\n",
    "\n",
    "What is the largest $n$-digit pandigital prime that exists?"
   ]
  },
  {
   "cell_type": "code",
   "execution_count": 1,
   "metadata": {},
   "outputs": [],
   "source": [
    "import numpy as np"
   ]
  },
  {
   "cell_type": "code",
   "execution_count": 2,
   "metadata": {},
   "outputs": [],
   "source": [
    "def pandigital(x):\n",
    "    \"\"\"Check if a number is pandigital.\n",
    "    \n",
    "    Parameters\n",
    "    ----------\n",
    "    x : int\n",
    "        The input number. \n",
    "\n",
    "    Returns\n",
    "    -------\n",
    "    bool\n",
    "    If True, the number is pandigital; otherwise, the number is not pandigital. \n",
    "    \"\"\"\n",
    "    ## split a number to obtain digits\n",
    "    digits = [int(x) for x in str(x)]\n",
    "    if(len(digits) == len(set(digits)) and sorted(digits) == list(range(1, np.max(digits)+1))):\n",
    "        return(True)\n",
    "    return(False)"
   ]
  },
  {
   "cell_type": "code",
   "execution_count": 3,
   "metadata": {},
   "outputs": [],
   "source": [
    "def prime(x):\n",
    "    \"\"\"Check if a number is prime.\n",
    "    \n",
    "    Parameters\n",
    "    ----------\n",
    "    x : int\n",
    "        The input number. \n",
    "\n",
    "    Returns\n",
    "    -------\n",
    "    bool\n",
    "    If True, the number is a prime number; otherwise, the number is a composite number. \n",
    "    \"\"\"\n",
    "    return(all(x%i!=0 for i in range(2, int(np.sqrt(x))+1)))"
   ]
  },
  {
   "cell_type": "code",
   "execution_count": 4,
   "metadata": {},
   "outputs": [],
   "source": [
    "def check(min, max):\n",
    "    \"\"\"Obtain the largest pandigital prime number from [min, max].\n",
    "    \n",
    "    Parameters\n",
    "    ----------\n",
    "    min : int\n",
    "          The input number. \n",
    "    max : int\n",
    "          The input number. \n",
    "          \n",
    "    Returns\n",
    "    -------\n",
    "    int\n",
    "    If there exist a pandigital prime number, output the largest one. Otherwise, throw a message.    \n",
    "    \"\"\"\n",
    "      \n",
    "    if(min % 2 == 0):  ## check if the provided minimum number is odd\n",
    "        min = min - 1\n",
    "    if(max % 2 == 0):  ## check if the provided maximum number is odd\n",
    "        max = max + 1\n",
    "    if(min < 2):\n",
    "        min = 3\n",
    "    if(max > 10**10):\n",
    "        max = 10**10-1\n",
    "    for num in range(max, min, -2): ## check only odd numbers\n",
    "        if(pandigital(num) and prime(num)):\n",
    "            return(num)\n",
    "            break\n",
    "    print('No pandigital prime number found.')"
   ]
  },
  {
   "cell_type": "code",
   "execution_count": 6,
   "metadata": {},
   "outputs": [
    {
     "data": {
      "text/plain": [
       "7652413"
      ]
     },
     "execution_count": 6,
     "metadata": {},
     "output_type": "execute_result"
    }
   ],
   "source": [
    "check(2143, 10**10-1)"
   ]
  }
 ],
 "metadata": {
  "kernelspec": {
   "display_name": "Python 3",
   "language": "python",
   "name": "python3"
  },
  "language_info": {
   "codemirror_mode": {
    "name": "ipython",
    "version": 3
   },
   "file_extension": ".py",
   "mimetype": "text/x-python",
   "name": "python",
   "nbconvert_exporter": "python",
   "pygments_lexer": "ipython3",
   "version": "3.7.6"
  }
 },
 "nbformat": 4,
 "nbformat_minor": 4
}
